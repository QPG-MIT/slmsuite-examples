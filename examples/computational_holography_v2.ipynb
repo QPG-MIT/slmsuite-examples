{
 "cells": [
  {
   "cell_type": "code",
   "execution_count": 58,
   "id": "removed-flight",
   "metadata": {},
   "outputs": [
    {
     "name": "stdout",
     "output_type": "stream",
     "text": [
      "The autoreload extension is already loaded. To reload it, use:\n",
      "  %reload_ext autoreload\n"
     ]
    }
   ],
   "source": [
    "# Header\n",
    "# basic ipython configuration \n",
    "# (reload source code automatically and plots inline)\n",
    "%load_ext autoreload\n",
    "%autoreload 2\n",
    "%matplotlib inline\n",
    "\n",
    "import os, sys\n",
    "import numpy as np\n",
    "import matplotlib.pyplot as plt\n",
    "try:\n",
    "    import cupy as cp\n",
    "except:\n",
    "    cp = np\n",
    "import cv2\n",
    "\n",
    "# Add slmsuite to the python path. TODO: Remove and replace with package import\n",
    "sys.path.append(os.path.join(os.getcwd(), '../../../..'))\n",
    "# Import GS algorithms\n",
    "# from slmsuite.holography.algorithms import FastGS\n",
    "# Import spot array class for target generation\n",
    "# from slmsuite.holography.SpotArray import SpotArray\n",
    "from slmsuite.holography.algorithms import Hologram\n",
    "import slmsuite.holography.toolbox as toolbox\n",
    "\n",
    "import slmsuite.holography.analysis as analysis"
   ]
  },
  {
   "cell_type": "code",
   "execution_count": 7,
   "id": "4f3c69a9",
   "metadata": {},
   "outputs": [],
   "source": [
    "from slmsuite.misc import fitfunctions"
   ]
  },
  {
   "cell_type": "code",
   "execution_count": 211,
   "id": "11d26671",
   "metadata": {},
   "outputs": [
    {
     "data": {
      "image/png": "[encoded data removed]",
      "text/plain": [
       "<Figure size 432x288 with 1 Axes>"
      ]
     },
     "metadata": {
      "needs_background": "light"
     },
     "output_type": "display_data"
    }
   ],
   "source": [
    "def test_gaussian2d():\n",
    "    edge_x = np.arange(-20, 21)\n",
    "    edge_y = np.arange(-25, 26)\n",
    "\n",
    "    grid_x, grid_y = np.meshgrid(edge_x, edge_y)\n",
    "\n",
    "    grid_xy = (grid_x, grid_y)\n",
    "\n",
    "    # x0, y0, a, c, wx, wy, wxy=0\n",
    "    return fitfunctions.gaussian2d_fitfun(grid_xy, 1,1,1,0,3,2, 5)\n",
    "\n",
    "img = test_gaussian2d()\n",
    "plt.imshow(img)\n",
    "plt.show()"
   ]
  },
  {
   "cell_type": "code",
   "execution_count": 213,
   "id": "dcc0d2b2",
   "metadata": {},
   "outputs": [],
   "source": [
    "imgs = np.array([test_gaussian2d() for _ in range(1)])"
   ]
  },
  {
   "cell_type": "code",
   "execution_count": 214,
   "id": "db442d1e",
   "metadata": {},
   "outputs": [
    {
     "data": {
      "text/plain": [
       "array([[1.],\n",
       "       [1.]])"
      ]
     },
     "execution_count": 214,
     "metadata": {},
     "output_type": "execute_result"
    }
   ],
   "source": [
    "analysis.image_positions(imgs)"
   ]
  },
  {
   "cell_type": "code",
   "execution_count": 215,
   "id": "4220050d",
   "metadata": {},
   "outputs": [
    {
     "data": {
      "text/plain": [
       "array([[[8.99999999, 4.99999999]],\n",
       "\n",
       "       [[4.99999999, 4.        ]]])"
      ]
     },
     "execution_count": 215,
     "metadata": {},
     "output_type": "execute_result"
    }
   ],
   "source": [
    "M = analysis.image_variances(imgs)\n",
    "M"
   ]
  },
  {
   "cell_type": "code",
   "execution_count": 218,
   "id": "6fc5990f",
   "metadata": {},
   "outputs": [
    {
     "data": {
      "text/plain": [
       "0.16666666666666663"
      ]
     },
     "execution_count": 218,
     "metadata": {},
     "output_type": "execute_result"
    }
   ],
   "source": [
    "1 - np.sqrt(5*5 / 9 / 4)"
   ]
  },
  {
   "cell_type": "code",
   "execution_count": null,
   "id": "daf46501",
   "metadata": {},
   "outputs": [],
   "source": []
  },
  {
   "cell_type": "code",
   "execution_count": 1,
   "id": "f6199aa5",
   "metadata": {},
   "outputs": [
    {
     "name": "stdout",
     "output_type": "stream",
     "text": [
      "vimba not installed. Install to use AlliedVision cameras.\n",
      "PySpin not installed. Install to use FLIR cameras.\n",
      "pymmcore not installed. Install to use Micro-Manager cameras.\n",
      "thorlabs.py: os has no attribute add_dll_directory.\n",
      "thorlabs_tsi_sdk not installed. Install to use Thorlabs cameras.\n"
     ]
    }
   ],
   "source": [
    "import sys\n",
    "sys.path.append(os.path.join(os.getcwd(), '../../../..'))\n",
    "\n",
    "from slmsuite.hardware.cameras.camera import Camera, CameraMonitor"
   ]
  },
  {
   "cell_type": "code",
   "execution_count": 2,
   "id": "4fc750b2",
   "metadata": {},
   "outputs": [],
   "source": [
    "cam = Camera(640, 480, 8)"
   ]
  },
  {
   "cell_type": "code",
   "execution_count": 3,
   "id": "23c1af16",
   "metadata": {},
   "outputs": [
    {
     "name": "stdout",
     "output_type": "stream",
     "text": [
      "(480, 640, 4)\n",
      "RUNNING!\n",
      "The window was resized to 640x480\n"
     ]
    }
   ],
   "source": [
    "window = CameraMonitor(cam)"
   ]
  },
  {
   "cell_type": "code",
   "execution_count": 4,
   "id": "cb37e13a",
   "metadata": {},
   "outputs": [],
   "source": [
    "window.thread.join()"
   ]
  },
  {
   "cell_type": "code",
   "execution_count": 7,
   "id": "45efc648",
   "metadata": {},
   "outputs": [],
   "source": [
    "window.close()"
   ]
  },
  {
   "cell_type": "code",
   "execution_count": 9,
   "id": "e03e9e75",
   "metadata": {},
   "outputs": [],
   "source": [
    "import pyglet.clock as clock"
   ]
  },
  {
   "cell_type": "code",
   "execution_count": 14,
   "id": "3d9c8bd5",
   "metadata": {},
   "outputs": [
    {
     "data": {
      "text/plain": [
       "82.57479893655851"
      ]
     },
     "execution_count": 14,
     "metadata": {},
     "output_type": "execute_result"
    }
   ],
   "source": [
    "clock._default.get_fps()"
   ]
  },
  {
   "cell_type": "code",
   "execution_count": 15,
   "id": "a5f2c4fd",
   "metadata": {},
   "outputs": [
    {
     "data": {
      "text/plain": [
       "<slmsuite.hardware.cameras.camera.CameraMonitor at 0x7fcaf927e590>"
      ]
     },
     "execution_count": 15,
     "metadata": {},
     "output_type": "execute_result"
    }
   ],
   "source": [
    "pyglet.app.event_loop._s"
   ]
  },
  {
   "cell_type": "code",
   "execution_count": 16,
   "id": "103b89a4",
   "metadata": {},
   "outputs": [
    {
     "ename": "AttributeError",
     "evalue": "module 'pyglet.clock' has no attribute '_schedule_items'",
     "output_type": "error",
     "traceback": [
      "\u001b[0;31m---------------------------------------------------------------------------\u001b[0m",
      "\u001b[0;31mAttributeError\u001b[0m                            Traceback (most recent call last)",
      "\u001b[0;32m<ipython-input-16-c6e7dbf9df87>\u001b[0m in \u001b[0;36m<module>\u001b[0;34m\u001b[0m\n\u001b[0;32m----> 1\u001b[0;31m \u001b[0mclock\u001b[0m\u001b[0;34m.\u001b[0m\u001b[0m_schedule_items\u001b[0m\u001b[0;34m\u001b[0m\u001b[0;34m\u001b[0m\u001b[0m\n\u001b[0m",
      "\u001b[0;31mAttributeError\u001b[0m: module 'pyglet.clock' has no attribute '_schedule_items'"
     ]
    }
   ],
   "source": [
    "clock._schedule_items"
   ]
  },
  {
   "cell_type": "code",
   "execution_count": null,
   "id": "2f43b7bc",
   "metadata": {},
   "outputs": [],
   "source": []
  }
 ],
 "metadata": {
  "celltoolbar": "Tags",
  "kernelspec": {
   "display_name": "Python 3.7.10 ('qp-slm3')",
   "language": "python",
   "name": "python3"
  },
  "language_info": {
   "codemirror_mode": {
    "name": "ipython",
    "version": 3
   },
   "file_extension": ".py",
   "mimetype": "text/x-python",
   "name": "python",
   "nbconvert_exporter": "python",
   "pygments_lexer": "ipython3",
   "version": "3.7.10"
  },
  "vscode": {
   "interpreter": {
    "hash": "3150b9662e03b6df26da8c8ff03997207b8523a5baa44ad4fcd9b8a7465c5ced"
   }
  }
 },
 "nbformat": 4,
 "nbformat_minor": 5
}
