{
 "cells": [
  {
   "cell_type": "code",
   "execution_count": 58,
   "id": "removed-flight",
   "metadata": {},
   "outputs": [
    {
     "name": "stdout",
     "output_type": "stream",
     "text": [
      "The autoreload extension is already loaded. To reload it, use:\n",
      "  %reload_ext autoreload\n"
     ]
    }
   ],
   "source": [
    "# Header\n",
    "# basic ipython configuration \n",
    "# (reload source code automatically and plots inline)\n",
    "%load_ext autoreload\n",
    "%autoreload 2\n",
    "%matplotlib inline\n",
    "\n",
    "import os, sys\n",
    "import numpy as np\n",
    "import matplotlib.pyplot as plt\n",
    "try:\n",
    "    import cupy as cp\n",
    "except:\n",
    "    cp = np\n",
    "import cv2\n",
    "\n",
    "# Add slmsuite to the python path. TODO: Remove and replace with package import\n",
    "sys.path.append(os.path.join(os.getcwd(), '../../../..'))\n",
    "# Import GS algorithms\n",
    "# from slmsuite.holography.algorithms import FastGS\n",
    "# Import spot array class for target generation\n",
    "# from slmsuite.holography.SpotArray import SpotArray\n",
    "from slmsuite.holography.algorithms import Hologram\n",
    "import slmsuite.holography.toolbox as toolbox\n",
    "\n",
    "import slmsuite.holography.analysis as analysis"
   ]
  },
  {
   "cell_type": "code",
   "execution_count": 7,
   "id": "4f3c69a9",
   "metadata": {},
   "outputs": [],
   "source": [
    "from slmsuite.misc import fitfunctions"
   ]
  },
  {
   "cell_type": "code",
   "execution_count": 211,
   "id": "11d26671",
   "metadata": {},
   "outputs": [
    {
     "data": {
      "image/png": "[encoded data removed]",
      "text/plain": [
       "<Figure size 432x288 with 1 Axes>"
      ]
     },
     "metadata": {
      "needs_background": "light"
     },
     "output_type": "display_data"
    }
   ],
   "source": [
    "def test_gaussian2d():\n",
    "    edge_x = np.arange(-20, 21)\n",
    "    edge_y = np.arange(-25, 26)\n",
    "\n",
    "    grid_x, grid_y = np.meshgrid(edge_x, edge_y)\n",
    "\n",
    "    grid_xy = (grid_x, grid_y)\n",
    "\n",
    "    # x0, y0, a, c, wx, wy, wxy=0\n",
    "    return fitfunctions.gaussian2d_fitfun(grid_xy, 1,1,1,0,3,2, 5)\n",
    "\n",
    "img = test_gaussian2d()\n",
    "plt.imshow(img)\n",
    "plt.show()"
   ]
  },
  {
   "cell_type": "code",
   "execution_count": 213,
   "id": "dcc0d2b2",
   "metadata": {},
   "outputs": [],
   "source": [
    "imgs = np.array([test_gaussian2d() for _ in range(1)])"
   ]
  },
  {
   "cell_type": "code",
   "execution_count": 214,
   "id": "db442d1e",
   "metadata": {},
   "outputs": [
    {
     "data": {
      "text/plain": [
       "array([[1.],\n",
       "       [1.]])"
      ]
     },
     "execution_count": 214,
     "metadata": {},
     "output_type": "execute_result"
    }
   ],
   "source": [
    "analysis.take_moment1(imgs)"
   ]
  },
  {
   "cell_type": "code",
   "execution_count": 215,
   "id": "4220050d",
   "metadata": {},
   "outputs": [
    {
     "data": {
      "text/plain": [
       "array([[[8.99999999, 4.99999999]],\n",
       "\n",
       "       [[4.99999999, 4.        ]]])"
      ]
     },
     "execution_count": 215,
     "metadata": {},
     "output_type": "execute_result"
    }
   ],
   "source": [
    "M = analysis.take_moment2(imgs)\n",
    "M"
   ]
  },
  {
   "cell_type": "code",
   "execution_count": 218,
   "id": "6fc5990f",
   "metadata": {},
   "outputs": [
    {
     "data": {
      "text/plain": [
       "0.16666666666666663"
      ]
     },
     "execution_count": 218,
     "metadata": {},
     "output_type": "execute_result"
    }
   ],
   "source": [
    "1 - np.sqrt(5*5 / 9 / 4)"
   ]
  },
  {
   "cell_type": "code",
   "execution_count": null,
   "id": "daf46501",
   "metadata": {},
   "outputs": [],
   "source": []
  },
  {
   "cell_type": "code",
   "execution_count": 2,
   "id": "f6199aa5",
   "metadata": {},
   "outputs": [
    {
     "name": "stdout",
     "output_type": "stream",
     "text": [
      "vimba not installed. Install to use AlliedVision cameras.\n",
      "PySpin not installed. Install to use FLIR cameras.\n",
      "pymmcore not installed. Install to use Micro-Manager cameras.\n",
      "thorlabs.py: os has no attribute add_dll_directory.\n",
      "thorlabs_tsi_sdk not installed. Install to use Thorlabs cameras.\n"
     ]
    }
   ],
   "source": [
    "import sys\n",
    "sys.path.append(os.path.join(os.getcwd(), '../../../..'))\n",
    "\n",
    "from slmsuite.hardware.cameras.camera import Camera, CameraMonitor"
   ]
  },
  {
   "cell_type": "code",
   "execution_count": 3,
   "id": "4fc750b2",
   "metadata": {},
   "outputs": [],
   "source": [
    "cam = Camera(640, 480, 8)"
   ]
  },
  {
   "cell_type": "code",
   "execution_count": 4,
   "id": "23c1af16",
   "metadata": {},
   "outputs": [
    {
     "name": "stdout",
     "output_type": "stream",
     "text": [
      "(480, 640, 4)\n",
      "The window was resized to 640x480\n",
      "The window was resized to 656x485\n",
      "The window was resized to 686x499\n",
      "The window was resized to 710x514\n",
      "The window was resized to 738x530\n",
      "The window was resized to 767x548\n",
      "The window was resized to 797x568\n",
      "The window was resized to 820x584\n",
      "The window was resized to 863x613\n",
      "The window was resized to 906x639\n",
      "The window was resized to 930x652\n",
      "The window was resized to 950x663\n",
      "The window was resized to 965x673\n",
      "The window was resized to 975x679\n",
      "The window was resized to 981x682\n",
      "The window was resized to 986x684\n",
      "The window was resized to 992x686\n",
      "The window was resized to 994x687\n",
      "The window was resized to 996x687\n",
      "The window was resized to 996x684\n",
      "The window was resized to 996x683\n",
      "The window was resized to 998x667\n",
      "The window was resized to 998x663\n",
      "The window was resized to 1002x643\n",
      "The window was resized to 1007x616\n",
      "The window was resized to 1013x585\n",
      "The window was resized to 1023x559\n",
      "The window was resized to 1030x543\n",
      "The window was resized to 1038x530\n",
      "The window was resized to 1043x518\n",
      "The window was resized to 1046x511\n",
      "The window was resized to 1049x490\n",
      "The window was resized to 1049x474\n",
      "The window was resized to 1048x451\n",
      "The window was resized to 1038x421\n",
      "The window was resized to 1021x389\n",
      "The window was resized to 1007x369\n",
      "The window was resized to 987x346\n",
      "The window was resized to 951x315\n",
      "The window was resized to 901x285\n",
      "The window was resized to 895x282\n",
      "The window was resized to 869x272\n",
      "The window was resized to 836x261\n",
      "The window was resized to 817x257\n",
      "The window was resized to 799x254\n",
      "The window was resized to 782x254\n",
      "The window was resized to 765x254\n",
      "The window was resized to 737x261\n",
      "The window was resized to 720x268\n",
      "The window was resized to 698x278\n",
      "The window was resized to 678x287\n",
      "The window was resized to 662x295\n",
      "The window was resized to 649x304\n",
      "The window was resized to 636x313\n",
      "The window was resized to 615x331\n",
      "The window was resized to 608x338\n",
      "The window was resized to 597x351\n",
      "The window was resized to 582x368\n",
      "The window was resized to 576x377\n",
      "The window was resized to 570x386\n",
      "The window was resized to 564x395\n",
      "The window was resized to 560x404\n",
      "The window was resized to 557x411\n",
      "The window was resized to 553x421\n",
      "The window was resized to 550x428\n",
      "The window was resized to 547x437\n",
      "The window was resized to 543x452\n",
      "The window was resized to 540x464\n",
      "The window was resized to 537x479\n",
      "The window was resized to 534x494\n",
      "The window was resized to 532x512\n",
      "The window was resized to 531x530\n",
      "The window was resized to 531x557\n",
      "The window was resized to 531x585\n",
      "The window was resized to 533x605\n",
      "The window was resized to 539x631\n",
      "The window was resized to 548x653\n",
      "The window was resized to 564x686\n",
      "The window was resized to 584x714\n",
      "The window was resized to 597x727\n",
      "The window was resized to 623x750\n",
      "The window was resized to 640x761\n",
      "The window was resized to 662x771\n",
      "The window was resized to 691x782\n",
      "The window was resized to 732x790\n",
      "The window was resized to 769x794\n",
      "The window was resized to 830x798\n",
      "The window was resized to 917x798\n",
      "The window was resized to 964x794\n",
      "The window was resized to 997x791\n",
      "The window was resized to 1020x786\n",
      "The window was resized to 1044x781\n",
      "The window was resized to 1055x778\n",
      "The window was resized to 1059x776\n",
      "The window was resized to 1061x774\n",
      "The window was resized to 1061x773\n",
      "The window was resized to 1060x769\n",
      "The window was resized to 1056x762\n",
      "The window was resized to 1052x759\n",
      "The window was resized to 1048x758\n",
      "The window was resized to 1043x758\n",
      "The window was resized to 1037x759\n",
      "The window was resized to 1031x762\n",
      "The window was resized to 1028x763\n",
      "The window was resized to 1020x763\n",
      "The window was resized to 1020x765\n",
      "The window was resized to 1034x770\n",
      "The window was resized to 1053x782\n",
      "The window was resized to 1119x850\n",
      "The window was resized to 1187x878\n",
      "The window was resized to 1250x878\n",
      "The window was resized to 1292x878\n",
      "The window was resized to 1303x878\n",
      "The window was resized to 1305x878\n",
      "The window was resized to 1306x878\n",
      "The window was resized to 1305x878\n",
      "The window was resized to 1291x878\n",
      "The window was resized to 1244x878\n",
      "The window was resized to 1188x870\n",
      "The window was resized to 1055x838\n",
      "The window was resized to 975x823\n",
      "The window was resized to 871x802\n",
      "The window was resized to 799x780\n",
      "The window was resized to 740x757\n",
      "The window was resized to 704x739\n",
      "The window was resized to 686x730\n",
      "The window was resized to 675x722\n",
      "The window was resized to 667x716\n",
      "The window was resized to 664x713\n",
      "The window was resized to 662x711\n",
      "The window was resized to 661x711\n",
      "The window was resized to 660x710\n",
      "The window was resized to 660x709\n",
      "The window was resized to 661x709\n",
      "The window was resized to 662x709\n",
      "The window was resized to 663x709\n",
      "The window was resized to 663x710\n",
      "The window was resized to 662x709\n",
      "The window was resized to 661x709\n",
      "The window was resized to 661x708\n",
      "The window was resized to 661x709\n",
      "The window was resized to 661x710\n",
      "The window was resized to 662x710\n",
      "The window was resized to 662x711\n",
      "The window was resized to 662x712\n",
      "The window was resized to 663x713\n",
      "The window was resized to 663x714\n",
      "The window was resized to 663x715\n",
      "The window was resized to 663x716\n",
      "The window was resized to 662x719\n",
      "The window was resized to 659x724\n",
      "The window was resized to 654x735\n",
      "The window was resized to 650x749\n",
      "The window was resized to 644x772\n",
      "The window was resized to 640x817\n",
      "The window was resized to 640x838\n",
      "The window was resized to 640x854\n",
      "The window was resized to 640x878\n",
      "The window was resized to 641x878\n",
      "The window was resized to 642x878\n",
      "The window was resized to 645x878\n",
      "The window was resized to 648x878\n",
      "The window was resized to 651x878\n",
      "The window was resized to 652x878\n",
      "The window was resized to 656x878\n",
      "The window was resized to 659x878\n",
      "The window was resized to 667x878\n",
      "The window was resized to 671x878\n",
      "The window was resized to 674x878\n",
      "The window was resized to 677x878\n",
      "The window was resized to 681x878\n",
      "The window was resized to 685x878\n",
      "The window was resized to 700x878\n",
      "The window was resized to 717x878\n",
      "The window was resized to 737x878\n",
      "The window was resized to 753x878\n",
      "The window was resized to 778x878\n",
      "The window was resized to 818x878\n",
      "The window was resized to 876x878\n",
      "The window was resized to 982x878\n",
      "The window was resized to 1071x878\n",
      "The window was resized to 1101x878\n",
      "The window was resized to 1108x878\n",
      "The window was resized to 138x878\n",
      "The window was resized to 73x878\n",
      "The window was resized to 310x878\n",
      "The window was resized to 311x878\n",
      "The window was resized to 315x878\n",
      "The window was resized to 258x878\n",
      "The window was resized to 258x612\n",
      "The window was resized to 258x2\n",
      "The window was resized to 258x60\n",
      "The window was resized to 258x64\n",
      "The window was resized to 258x65\n",
      "The window was resized to 258x67\n",
      "The window was resized to 258x189\n",
      "The window was resized to 258x192\n",
      "The window was resized to 258x195\n",
      "The window was resized to 258x197\n",
      "The window was resized to 258x199\n",
      "The window was resized to 258x202\n",
      "The window was resized to 258x203\n",
      "The window was resized to 258x204\n",
      "The window was resized to 258x205\n",
      "The window was resized to 258x285\n"
     ]
    }
   ],
   "source": [
    "window = CameraMonitor(cam)"
   ]
  },
  {
   "cell_type": "code",
   "execution_count": null,
   "id": "45efc648",
   "metadata": {},
   "outputs": [],
   "source": []
  }
 ],
 "metadata": {
  "celltoolbar": "Tags",
  "kernelspec": {
   "display_name": "Python 3.7.10 ('qp-slm3')",
   "language": "python",
   "name": "python3"
  },
  "language_info": {
   "codemirror_mode": {
    "name": "ipython",
    "version": 3
   },
   "file_extension": ".py",
   "mimetype": "text/x-python",
   "name": "python",
   "nbconvert_exporter": "python",
   "pygments_lexer": "ipython3",
   "version": "3.7.10"
  },
  "vscode": {
   "interpreter": {
    "hash": "3150b9662e03b6df26da8c8ff03997207b8523a5baa44ad4fcd9b8a7465c5ced"
   }
  }
 },
 "nbformat": 4,
 "nbformat_minor": 5
}
